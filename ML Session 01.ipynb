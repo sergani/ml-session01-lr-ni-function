{
  "nbformat": 4,
  "nbformat_minor": 0,
  "metadata": {
    "colab": {
      "provenance": [],
      "collapsed_sections": []
    },
    "kernelspec": {
      "name": "python3",
      "display_name": "Python 3"
    },
    "language_info": {
      "name": "python"
    }
  },
  "cells": [
    {
      "cell_type": "code",
      "execution_count": null,
      "metadata": {
        "id": "wU38gJUmZRyD"
      },
      "outputs": [],
      "source": [
        "import numpy as np\n",
        "import pandas as pd\n",
        "import matplotlib.pyplot as plt\n",
        "\n",
        "%matplotlib inline"
      ]
    },
    {
      "cell_type": "code",
      "source": [
        "points = pd.read_csv('/content/ML Session 01.csv')\n",
        "points.head()"
      ],
      "metadata": {
        "colab": {
          "base_uri": "https://localhost:8080/",
          "height": 206
        },
        "id": "W22EZD3tZeSJ",
        "outputId": "a63fe59e-428d-42a5-b6ab-de7162d5d9c5"
      },
      "execution_count": null,
      "outputs": [
        {
          "output_type": "execute_result",
          "data": {
            "text/plain": [
              "   study_Hours  Test_scores\n",
              "0    53.426804    68.777596\n",
              "1    61.530358    62.562382\n",
              "2    47.475640    71.546632\n",
              "3    59.813208    87.230925\n",
              "4    55.142188    78.211518"
            ],
            "text/html": [
              "\n",
              "  <div id=\"df-27edd7e9-e1f2-46ac-904a-2123efcff9fa\">\n",
              "    <div class=\"colab-df-container\">\n",
              "      <div>\n",
              "<style scoped>\n",
              "    .dataframe tbody tr th:only-of-type {\n",
              "        vertical-align: middle;\n",
              "    }\n",
              "\n",
              "    .dataframe tbody tr th {\n",
              "        vertical-align: top;\n",
              "    }\n",
              "\n",
              "    .dataframe thead th {\n",
              "        text-align: right;\n",
              "    }\n",
              "</style>\n",
              "<table border=\"1\" class=\"dataframe\">\n",
              "  <thead>\n",
              "    <tr style=\"text-align: right;\">\n",
              "      <th></th>\n",
              "      <th>study_Hours</th>\n",
              "      <th>Test_scores</th>\n",
              "    </tr>\n",
              "  </thead>\n",
              "  <tbody>\n",
              "    <tr>\n",
              "      <th>0</th>\n",
              "      <td>53.426804</td>\n",
              "      <td>68.777596</td>\n",
              "    </tr>\n",
              "    <tr>\n",
              "      <th>1</th>\n",
              "      <td>61.530358</td>\n",
              "      <td>62.562382</td>\n",
              "    </tr>\n",
              "    <tr>\n",
              "      <th>2</th>\n",
              "      <td>47.475640</td>\n",
              "      <td>71.546632</td>\n",
              "    </tr>\n",
              "    <tr>\n",
              "      <th>3</th>\n",
              "      <td>59.813208</td>\n",
              "      <td>87.230925</td>\n",
              "    </tr>\n",
              "    <tr>\n",
              "      <th>4</th>\n",
              "      <td>55.142188</td>\n",
              "      <td>78.211518</td>\n",
              "    </tr>\n",
              "  </tbody>\n",
              "</table>\n",
              "</div>\n",
              "      <button class=\"colab-df-convert\" onclick=\"convertToInteractive('df-27edd7e9-e1f2-46ac-904a-2123efcff9fa')\"\n",
              "              title=\"Convert this dataframe to an interactive table.\"\n",
              "              style=\"display:none;\">\n",
              "        \n",
              "  <svg xmlns=\"http://www.w3.org/2000/svg\" height=\"24px\"viewBox=\"0 0 24 24\"\n",
              "       width=\"24px\">\n",
              "    <path d=\"M0 0h24v24H0V0z\" fill=\"none\"/>\n",
              "    <path d=\"M18.56 5.44l.94 2.06.94-2.06 2.06-.94-2.06-.94-.94-2.06-.94 2.06-2.06.94zm-11 1L8.5 8.5l.94-2.06 2.06-.94-2.06-.94L8.5 2.5l-.94 2.06-2.06.94zm10 10l.94 2.06.94-2.06 2.06-.94-2.06-.94-.94-2.06-.94 2.06-2.06.94z\"/><path d=\"M17.41 7.96l-1.37-1.37c-.4-.4-.92-.59-1.43-.59-.52 0-1.04.2-1.43.59L10.3 9.45l-7.72 7.72c-.78.78-.78 2.05 0 2.83L4 21.41c.39.39.9.59 1.41.59.51 0 1.02-.2 1.41-.59l7.78-7.78 2.81-2.81c.8-.78.8-2.07 0-2.86zM5.41 20L4 18.59l7.72-7.72 1.47 1.35L5.41 20z\"/>\n",
              "  </svg>\n",
              "      </button>\n",
              "      \n",
              "  <style>\n",
              "    .colab-df-container {\n",
              "      display:flex;\n",
              "      flex-wrap:wrap;\n",
              "      gap: 12px;\n",
              "    }\n",
              "\n",
              "    .colab-df-convert {\n",
              "      background-color: #E8F0FE;\n",
              "      border: none;\n",
              "      border-radius: 50%;\n",
              "      cursor: pointer;\n",
              "      display: none;\n",
              "      fill: #1967D2;\n",
              "      height: 32px;\n",
              "      padding: 0 0 0 0;\n",
              "      width: 32px;\n",
              "    }\n",
              "\n",
              "    .colab-df-convert:hover {\n",
              "      background-color: #E2EBFA;\n",
              "      box-shadow: 0px 1px 2px rgba(60, 64, 67, 0.3), 0px 1px 3px 1px rgba(60, 64, 67, 0.15);\n",
              "      fill: #174EA6;\n",
              "    }\n",
              "\n",
              "    [theme=dark] .colab-df-convert {\n",
              "      background-color: #3B4455;\n",
              "      fill: #D2E3FC;\n",
              "    }\n",
              "\n",
              "    [theme=dark] .colab-df-convert:hover {\n",
              "      background-color: #434B5C;\n",
              "      box-shadow: 0px 1px 3px 1px rgba(0, 0, 0, 0.15);\n",
              "      filter: drop-shadow(0px 1px 2px rgba(0, 0, 0, 0.3));\n",
              "      fill: #FFFFFF;\n",
              "    }\n",
              "  </style>\n",
              "\n",
              "      <script>\n",
              "        const buttonEl =\n",
              "          document.querySelector('#df-27edd7e9-e1f2-46ac-904a-2123efcff9fa button.colab-df-convert');\n",
              "        buttonEl.style.display =\n",
              "          google.colab.kernel.accessAllowed ? 'block' : 'none';\n",
              "\n",
              "        async function convertToInteractive(key) {\n",
              "          const element = document.querySelector('#df-27edd7e9-e1f2-46ac-904a-2123efcff9fa');\n",
              "          const dataTable =\n",
              "            await google.colab.kernel.invokeFunction('convertToInteractive',\n",
              "                                                     [key], {});\n",
              "          if (!dataTable) return;\n",
              "\n",
              "          const docLinkHtml = 'Like what you see? Visit the ' +\n",
              "            '<a target=\"_blank\" href=https://colab.research.google.com/notebooks/data_table.ipynb>data table notebook</a>'\n",
              "            + ' to learn more about interactive tables.';\n",
              "          element.innerHTML = '';\n",
              "          dataTable['output_type'] = 'display_data';\n",
              "          await google.colab.output.renderOutput(dataTable, element);\n",
              "          const docLink = document.createElement('div');\n",
              "          docLink.innerHTML = docLinkHtml;\n",
              "          element.appendChild(docLink);\n",
              "        }\n",
              "      </script>\n",
              "    </div>\n",
              "  </div>\n",
              "  "
            ]
          },
          "metadata": {},
          "execution_count": 2
        }
      ]
    },
    {
      "cell_type": "code",
      "source": [
        "points.info()"
      ],
      "metadata": {
        "colab": {
          "base_uri": "https://localhost:8080/"
        },
        "id": "3KAz4gsxZ-zl",
        "outputId": "14c24d3d-c46e-4b66-910d-f35aff5fee2d"
      },
      "execution_count": null,
      "outputs": [
        {
          "output_type": "stream",
          "name": "stdout",
          "text": [
            "<class 'pandas.core.frame.DataFrame'>\n",
            "RangeIndex: 99 entries, 0 to 98\n",
            "Data columns (total 2 columns):\n",
            " #   Column       Non-Null Count  Dtype  \n",
            "---  ------       --------------  -----  \n",
            " 0   study_Hours  99 non-null     float64\n",
            " 1   Test_scores  99 non-null     float64\n",
            "dtypes: float64(2)\n",
            "memory usage: 1.7 KB\n"
          ]
        }
      ]
    },
    {
      "cell_type": "code",
      "source": [
        "x = points['study_Hours']\n",
        "y = points['Test_scores']\n"
      ],
      "metadata": {
        "id": "fJvCVcklaDWv"
      },
      "execution_count": null,
      "outputs": []
    },
    {
      "cell_type": "code",
      "source": [
        "plt.figure(figsize=(12,6))\n",
        "plt.scatter(x,y)\n",
        "plt.xlabel('study_Hours')\n",
        "plt.ylabel('Test_scores')\n",
        "\n",
        "plt.title('Dataset')"
      ],
      "metadata": {
        "colab": {
          "base_uri": "https://localhost:8080/",
          "height": 423
        },
        "id": "kSoMjQ6caQBa",
        "outputId": "593976e8-b5f4-4e79-8116-9379315cc19a"
      },
      "execution_count": null,
      "outputs": [
        {
          "output_type": "execute_result",
          "data": {
            "text/plain": [
              "Text(0.5, 1.0, 'Dataset')"
            ]
          },
          "metadata": {},
          "execution_count": 5
        },
        {
          "output_type": "display_data",
          "data": {
            "text/plain": [
              "<Figure size 864x432 with 1 Axes>"
            ],
            "image/png": "[encoded data removed]"
          },
          "metadata": {
            "needs_background": "light"
          }
        }
      ]
    },
    {
      "cell_type": "markdown",
      "source": [
        "# y = a_0 + a_1*x"
      ],
      "metadata": {
        "id": "sNtWIli_fX4C"
      }
    },
    {
      "cell_type": "code",
      "source": [
        "\n",
        "# calulate cost function\n",
        "\n",
        "def compute_cost_fun(a_0,a_1,points):\n",
        "  total_cost = 0\n",
        "  N = float(len(points))\n",
        "  \n",
        "  for i in range(0,len(points)):\n",
        "    x = points['study_Hours'][i]\n",
        "    y = points['Test_scores'][i]\n",
        "\n",
        "    total_cost += (y - (a_1*x + a_0))**2  # MSE\n",
        "\n",
        "  return total_cost/N\n"
      ],
      "metadata": {
        "id": "-v7xYYFaan07"
      },
      "execution_count": null,
      "outputs": []
    },
    {
      "cell_type": "code",
      "source": [
        "# function input ( a_0_current, a_1_current, points, learning_rate)\n",
        "# function output ( a_0_updated, a_1_updated )\n",
        "\n",
        "def step_gradient(a_0_current, a_1_current, points, learning_rate):\n",
        "  a_0_gradient = 0\n",
        "  a_1_gradient = 0\n",
        "\n",
        "  N = float(len(points)) \n",
        "\n",
        "  for i in range(0,len(points)):\n",
        "\n",
        "    x = points[i,0]\n",
        "    y = points[i,1]\n",
        "\n",
        "    a_0_gradient += -(2/N) * (y - (a_0_current + a_1_current*x))  # D_a_0 \n",
        "    a_1_gradient += -(2/N) * (y - (a_0_current + a_1_current*x)) * x  # D_a_0 \n",
        "\n",
        "  a_0_updated = a_0_current - learning_rate * a_0_gradient\n",
        "  a_1_updated = a_1_current - learning_rate * a_1_gradient\n",
        "\n",
        "\n",
        "  return a_0_updated, a_1_updated\n",
        "\n"
      ],
      "metadata": {
        "id": "P91b7gCTbpmd"
      },
      "execution_count": null,
      "outputs": []
    },
    {
      "cell_type": "code",
      "source": [
        "points['study_Hours'][30]"
      ],
      "metadata": {
        "colab": {
          "base_uri": "https://localhost:8080/"
        },
        "id": "fVfpWTkOesBL",
        "outputId": "40ae6bdb-63db-4339-f753-fdab496fcb9c"
      },
      "execution_count": null,
      "outputs": [
        {
          "output_type": "execute_result",
          "data": {
            "text/plain": [
              "35.56783005"
            ]
          },
          "metadata": {},
          "execution_count": 8
        }
      ]
    },
    {
      "cell_type": "code",
      "source": [
        "def gradient_descent_runner(points, starting_a_0, starting_a_1, learning_rate, num_iterations):\n",
        "\n",
        "  a_0 = starting_a_0\n",
        "  a_1 = starting_a_1\n",
        "\n",
        "  cost_graph = []\n",
        "  global a_0_values, a_1_values\n",
        "  a_0_values, a_1_values = [], []\n",
        "\n",
        "  for i in range(num_iterations):\n",
        "    cost_graph.append(compute_cost_fun(a_0,a_1,points))\n",
        "    a_0,a_1 = step_gradient(a_0,a_1,np.array(points), learning_rate)\n",
        "\n",
        "    a_0_values.append(a_0)\n",
        "    a_1_values.append(a_1)\n",
        "\n",
        "  return [a_0,a_1,cost_graph]"
      ],
      "metadata": {
        "id": "uDhUeMMDd2F4"
      },
      "execution_count": null,
      "outputs": []
    },
    {
      "cell_type": "code",
      "source": [
        "learning_rate  = 0.0001\n",
        "\n",
        "num_iterations = 100\n",
        "\n",
        "intial_a_0 = 0\n",
        "intial_a_1 = 0"
      ],
      "metadata": {
        "id": "lDiag2jehVGL"
      },
      "execution_count": null,
      "outputs": []
    },
    {
      "cell_type": "code",
      "source": [
        "a_0 , a_1, cost_graph = gradient_descent_runner(points,intial_a_0,intial_a_1, learning_rate,num_iterations )\n",
        "\n",
        "\n",
        "print(\"optimized a_0\", a_0)\n",
        "print(\"optimized a_1\", a_1)\n",
        "print(\"minimized cost function\", compute_cost_fun(a_0,a_1,points))\n",
        "\n",
        "# MSE\n",
        "# RMSE"
      ],
      "metadata": {
        "colab": {
          "base_uri": "https://localhost:8080/"
        },
        "id": "YIQaiu2HhjK0",
        "outputId": "cb07d899-3781-409d-e2ed-2a9d1d15be95"
      },
      "execution_count": null,
      "outputs": [
        {
          "output_type": "stream",
          "name": "stdout",
          "text": [
            "optimized a_0 0.036308009121857374\n",
            "optimized a_1 1.4809270431911752\n",
            "minimized cost function 111.0581497156067\n"
          ]
        }
      ]
    },
    {
      "cell_type": "code",
      "source": [
        "plt.figure(figsize=(10,6))\n",
        "plt.plot(cost_graph)\n",
        "\n",
        "plt.xlabel('no of iterations')\n",
        "plt.ylabel('cost per iterations')"
      ],
      "metadata": {
        "colab": {
          "base_uri": "https://localhost:8080/",
          "height": 406
        },
        "id": "F8iMRY5Jj0Td",
        "outputId": "817102ae-dd4f-4b26-826f-b73d9c6ea678"
      },
      "execution_count": null,
      "outputs": [
        {
          "output_type": "execute_result",
          "data": {
            "text/plain": [
              "Text(0, 0.5, 'cost per iterations')"
            ]
          },
          "metadata": {},
          "execution_count": 12
        },
        {
          "output_type": "display_data",
          "data": {
            "text/plain": [
              "<Figure size 720x432 with 1 Axes>"
            ],
            "image/png": "[encoded data removed]"
          },
          "metadata": {
            "needs_background": "light"
          }
        }
      ]
    },
    {
      "cell_type": "code",
      "source": [
        "plt.figure(figsize=(12,6))\n",
        "plt.scatter(x,y)\n",
        "\n",
        "y_pred = a_0 + a_1*x\n",
        "\n",
        "plt.plot(x,y_pred,c='r')\n",
        "plt.xlabel('study_Hours')\n",
        "plt.ylabel('Test_scores')\n",
        "\n",
        "plt.title('Dataset')"
      ],
      "metadata": {
        "colab": {
          "base_uri": "https://localhost:8080/",
          "height": 423
        },
        "id": "tLai38iek89Z",
        "outputId": "c6c571ce-568f-42df-a3e3-e40872bcf989"
      },
      "execution_count": null,
      "outputs": [
        {
          "output_type": "execute_result",
          "data": {
            "text/plain": [
              "Text(0.5, 1.0, 'Dataset')"
            ]
          },
          "metadata": {},
          "execution_count": 19
        },
        {
          "output_type": "display_data",
          "data": {
            "text/plain": [
              "<Figure size 864x432 with 1 Axes>"
            ],
            "image/png": "[encoded data removed]"
          },
          "metadata": {
            "needs_background": "light"
          }
        }
      ]
    },
    {
      "cell_type": "code",
      "source": [
        "plt.figure(figsize=(12,6))\n",
        "plt.scatter(x,y)\n",
        "\n",
        "# y_pred = a_0 + a_1*x\n",
        "\n",
        "for w,b in zip(a_0_values,a_1_values):\n",
        "\n",
        "  pred = b*x + w\n",
        "\n",
        "  plt.plot(x,pred, c= 'r', linestyle='dashed')\n",
        "\n",
        "\n",
        "\n",
        "plt.plot(x,y_pred,c='black')\n",
        "plt.xlabel('study_Hours')\n",
        "plt.ylabel('Test_scores')\n",
        "\n",
        "plt.title('Dataset')"
      ],
      "metadata": {
        "colab": {
          "base_uri": "https://localhost:8080/",
          "height": 423
        },
        "id": "IhWMfR66lWmN",
        "outputId": "7444e303-f8be-40a2-d1d5-605cd4a27685"
      },
      "execution_count": null,
      "outputs": [
        {
          "output_type": "execute_result",
          "data": {
            "text/plain": [
              "Text(0.5, 1.0, 'Dataset')"
            ]
          },
          "metadata": {},
          "execution_count": 14
        },
        {
          "output_type": "display_data",
          "data": {
            "text/plain": [
              "<Figure size 864x432 with 1 Axes>"
            ],
            "image/png": "[encoded data removed]"
          },
          "metadata": {
            "needs_background": "light"
          }
        }
      ]
    },
    {
      "cell_type": "code",
      "source": [
        "iterations = []\n",
        "for i in range(1, 11):\n",
        "    # iterations.append(i * 10)\n",
        "    # iterations.append(i * 100)\n",
        "    iterations.append(i * 1000)\n",
        "    # iterations.append(i * 10000)\n",
        "iterations.sort()\n",
        "print(iterations)\n"
      ],
      "metadata": {
        "colab": {
          "base_uri": "https://localhost:8080/"
        },
        "id": "DKREMSEx4WtY",
        "outputId": "f318efe4-6101-409d-a7ca-6d4e95ff2101"
      },
      "execution_count": null,
      "outputs": [
        {
          "output_type": "stream",
          "name": "stdout",
          "text": [
            "[1000, 2000, 3000, 4000, 5000, 6000, 7000, 8000, 9000, 10000]\n"
          ]
        }
      ]
    },
    {
      "cell_type": "code",
      "source": [
        "lr = []\n",
        "for i in range(1, 11):\n",
        "    # lr.append(i / 10)\n",
        "    # lr.append(i / 100)\n",
        "    lr.append(i / 1000)\n",
        "    lr.append(i / 10000)\n",
        "lr.sort(reverse=False)\n",
        "print(lr)\n"
      ],
      "metadata": {
        "colab": {
          "base_uri": "https://localhost:8080/"
        },
        "id": "3xBe6-qZ4Ynh",
        "outputId": "0ebbb49b-1637-4933-8aab-215af43c6fcd"
      },
      "execution_count": null,
      "outputs": [
        {
          "output_type": "stream",
          "name": "stdout",
          "text": [
            "[0.0001, 0.0002, 0.0003, 0.0004, 0.0005, 0.0006, 0.0007, 0.0008, 0.0009, 0.001, 0.001, 0.002, 0.003, 0.004, 0.005, 0.006, 0.007, 0.008, 0.009, 0.01]\n"
          ]
        }
      ]
    },
    {
      "cell_type": "code",
      "source": [
        "def get_min_cost(num_iterations, learning_rate):\n",
        "    intial_a_0 = 0\n",
        "    intial_a_1 = 0\n",
        "\n",
        "    min_cost = float('inf')\n",
        "\n",
        "    for num_iterations in iterations:\n",
        "        print('Number of iterations:', num_iterations)\n",
        "\n",
        "        first = True\n",
        "        for learning_rate in lr:\n",
        "            print('Learning rate:', learning_rate)\n",
        "\n",
        "            a_0, a_1, cost_graph = gradient_descent_runner(points, intial_a_0, intial_a_1, learning_rate, num_iterations)\n",
        "\n",
        "            cost = compute_cost_fun(a_0, a_1, points)\n",
        "\n",
        "            if not first:\n",
        "                break\n",
        "            if cost == float('inf') or cost == float('-inf') or np.isnan(cost):\n",
        "                continue\n",
        "            if cost < min_cost:\n",
        "                min_cost = cost\n",
        "                best_iter = num_iterations\n",
        "                best_lr = learning_rate\n",
        "                # first = False \n",
        "\n",
        "    #         print('Optimized a_0:', a_0)\n",
        "    #         print('Optimized a_1:', a_1)\n",
        "    #         print('Minimised cost:', cost)\n",
        "    #         print('Minimum cost reached:', min_cost)\n",
        "    #         print('--------------------')\n",
        "\n",
        "    # print('+++ Final minimum cost:', min_cost)\n",
        "\n",
        "    return best_iter, best_lr, min_cost\n"
      ],
      "metadata": {
        "id": "bssOS4214Zkd"
      },
      "execution_count": null,
      "outputs": []
    },
    {
      "cell_type": "code",
      "source": [
        "best_iter, best_lr, min_cost = get_min_cost(iterations, lr)\n",
        "\n",
        "print('Best iterations:', best_iter)\n",
        "print('Best learning rate:', best_lr)\n",
        "print('Minimum cost:', min_cost)"
      ],
      "metadata": {
        "colab": {
          "base_uri": "https://localhost:8080/"
        },
        "id": "PrwYgC1R9YEY",
        "outputId": "cb801a52-76b6-4d9b-bd34-5c5e0024be7b"
      },
      "execution_count": null,
      "outputs": [
        {
          "output_type": "stream",
          "name": "stdout",
          "text": [
            "Number of iterations: 1000\n",
            "Learning rate: 0.0001\n",
            "Learning rate: 0.0002\n",
            "Learning rate: 0.0003\n",
            "Learning rate: 0.0004\n",
            "Learning rate: 0.0005\n"
          ]
        },
        {
          "output_type": "stream",
          "name": "stderr",
          "text": [
            "/usr/local/lib/python3.7/dist-packages/ipykernel_launcher.py:11: RuntimeWarning: overflow encountered in double_scalars\n",
            "  # This is added back by InteractiveShellApp.init_path()\n"
          ]
        },
        {
          "output_type": "stream",
          "name": "stdout",
          "text": [
            "Learning rate: 0.0006\n",
            "Learning rate: 0.0007\n"
          ]
        },
        {
          "output_type": "stream",
          "name": "stderr",
          "text": [
            "/usr/local/lib/python3.7/dist-packages/ipykernel_launcher.py:16: RuntimeWarning: overflow encountered in double_scalars\n",
            "  app.launch_new_instance()\n",
            "/usr/local/lib/python3.7/dist-packages/ipykernel_launcher.py:19: RuntimeWarning: invalid value encountered in double_scalars\n"
          ]
        },
        {
          "output_type": "stream",
          "name": "stdout",
          "text": [
            "Learning rate: 0.0008\n",
            "Learning rate: 0.0009\n",
            "Learning rate: 0.001\n",
            "Learning rate: 0.001\n",
            "Learning rate: 0.002\n",
            "Learning rate: 0.003\n",
            "Learning rate: 0.004\n",
            "Learning rate: 0.005\n",
            "Learning rate: 0.006\n",
            "Learning rate: 0.007\n",
            "Learning rate: 0.008\n",
            "Learning rate: 0.009\n",
            "Learning rate: 0.01\n",
            "Number of iterations: 2000\n",
            "Learning rate: 0.0001\n",
            "Learning rate: 0.0002\n",
            "Learning rate: 0.0003\n",
            "Learning rate: 0.0004\n",
            "Learning rate: 0.0005\n",
            "Learning rate: 0.0006\n",
            "Learning rate: 0.0007\n",
            "Learning rate: 0.0008\n",
            "Learning rate: 0.0009\n",
            "Learning rate: 0.001\n",
            "Learning rate: 0.001\n",
            "Learning rate: 0.002\n",
            "Learning rate: 0.003\n",
            "Learning rate: 0.004\n",
            "Learning rate: 0.005\n",
            "Learning rate: 0.006\n",
            "Learning rate: 0.007\n",
            "Learning rate: 0.008\n",
            "Learning rate: 0.009\n",
            "Learning rate: 0.01\n",
            "Number of iterations: 3000\n",
            "Learning rate: 0.0001\n",
            "Learning rate: 0.0002\n",
            "Learning rate: 0.0003\n",
            "Learning rate: 0.0004\n",
            "Learning rate: 0.0005\n",
            "Learning rate: 0.0006\n",
            "Learning rate: 0.0007\n",
            "Learning rate: 0.0008\n",
            "Learning rate: 0.0009\n",
            "Learning rate: 0.001\n",
            "Learning rate: 0.001\n",
            "Learning rate: 0.002\n",
            "Learning rate: 0.003\n",
            "Learning rate: 0.004\n",
            "Learning rate: 0.005\n",
            "Learning rate: 0.006\n",
            "Learning rate: 0.007\n",
            "Learning rate: 0.008\n",
            "Learning rate: 0.009\n",
            "Learning rate: 0.01\n",
            "Number of iterations: 4000\n",
            "Learning rate: 0.0001\n",
            "Learning rate: 0.0002\n",
            "Learning rate: 0.0003\n",
            "Learning rate: 0.0004\n",
            "Learning rate: 0.0005\n",
            "Learning rate: 0.0006\n",
            "Learning rate: 0.0007\n",
            "Learning rate: 0.0008\n",
            "Learning rate: 0.0009\n",
            "Learning rate: 0.001\n",
            "Learning rate: 0.001\n",
            "Learning rate: 0.002\n",
            "Learning rate: 0.003\n",
            "Learning rate: 0.004\n",
            "Learning rate: 0.005\n",
            "Learning rate: 0.006\n",
            "Learning rate: 0.007\n",
            "Learning rate: 0.008\n",
            "Learning rate: 0.009\n",
            "Learning rate: 0.01\n",
            "Number of iterations: 5000\n",
            "Learning rate: 0.0001\n",
            "Learning rate: 0.0002\n",
            "Learning rate: 0.0003\n",
            "Learning rate: 0.0004\n",
            "Learning rate: 0.0005\n",
            "Learning rate: 0.0006\n",
            "Learning rate: 0.0007\n",
            "Learning rate: 0.0008\n",
            "Learning rate: 0.0009\n",
            "Learning rate: 0.001\n",
            "Learning rate: 0.001\n",
            "Learning rate: 0.002\n",
            "Learning rate: 0.003\n",
            "Learning rate: 0.004\n",
            "Learning rate: 0.005\n",
            "Learning rate: 0.006\n",
            "Learning rate: 0.007\n",
            "Learning rate: 0.008\n",
            "Learning rate: 0.009\n",
            "Learning rate: 0.01\n",
            "Number of iterations: 6000\n",
            "Learning rate: 0.0001\n",
            "Learning rate: 0.0002\n",
            "Learning rate: 0.0003\n",
            "Learning rate: 0.0004\n",
            "Learning rate: 0.0005\n",
            "Learning rate: 0.0006\n",
            "Learning rate: 0.0007\n",
            "Learning rate: 0.0008\n",
            "Learning rate: 0.0009\n",
            "Learning rate: 0.001\n",
            "Learning rate: 0.001\n",
            "Learning rate: 0.002\n",
            "Learning rate: 0.003\n",
            "Learning rate: 0.004\n",
            "Learning rate: 0.005\n",
            "Learning rate: 0.006\n",
            "Learning rate: 0.007\n",
            "Learning rate: 0.008\n",
            "Learning rate: 0.009\n",
            "Learning rate: 0.01\n",
            "Number of iterations: 7000\n",
            "Learning rate: 0.0001\n",
            "Learning rate: 0.0002\n",
            "Learning rate: 0.0003\n",
            "Learning rate: 0.0004\n",
            "Learning rate: 0.0005\n",
            "Learning rate: 0.0006\n",
            "Learning rate: 0.0007\n",
            "Learning rate: 0.0008\n",
            "Learning rate: 0.0009\n",
            "Learning rate: 0.001\n",
            "Learning rate: 0.001\n",
            "Learning rate: 0.002\n",
            "Learning rate: 0.003\n",
            "Learning rate: 0.004\n",
            "Learning rate: 0.005\n",
            "Learning rate: 0.006\n",
            "Learning rate: 0.007\n",
            "Learning rate: 0.008\n",
            "Learning rate: 0.009\n",
            "Learning rate: 0.01\n",
            "Number of iterations: 8000\n",
            "Learning rate: 0.0001\n",
            "Learning rate: 0.0002\n",
            "Learning rate: 0.0003\n",
            "Learning rate: 0.0004\n",
            "Learning rate: 0.0005\n",
            "Learning rate: 0.0006\n",
            "Learning rate: 0.0007\n",
            "Learning rate: 0.0008\n",
            "Learning rate: 0.0009\n",
            "Learning rate: 0.001\n",
            "Learning rate: 0.001\n",
            "Learning rate: 0.002\n",
            "Learning rate: 0.003\n",
            "Learning rate: 0.004\n",
            "Learning rate: 0.005\n",
            "Learning rate: 0.006\n",
            "Learning rate: 0.007\n",
            "Learning rate: 0.008\n",
            "Learning rate: 0.009\n",
            "Learning rate: 0.01\n",
            "Number of iterations: 9000\n",
            "Learning rate: 0.0001\n",
            "Learning rate: 0.0002\n",
            "Learning rate: 0.0003\n",
            "Learning rate: 0.0004\n",
            "Learning rate: 0.0005\n",
            "Learning rate: 0.0006\n",
            "Learning rate: 0.0007\n",
            "Learning rate: 0.0008\n",
            "Learning rate: 0.0009\n",
            "Learning rate: 0.001\n",
            "Learning rate: 0.001\n",
            "Learning rate: 0.002\n",
            "Learning rate: 0.003\n",
            "Learning rate: 0.004\n",
            "Learning rate: 0.005\n",
            "Learning rate: 0.006\n",
            "Learning rate: 0.007\n",
            "Learning rate: 0.008\n",
            "Learning rate: 0.009\n",
            "Learning rate: 0.01\n",
            "Number of iterations: 10000\n",
            "Learning rate: 0.0001\n",
            "Learning rate: 0.0002\n",
            "Learning rate: 0.0003\n",
            "Learning rate: 0.0004\n",
            "Learning rate: 0.0005\n",
            "Learning rate: 0.0006\n",
            "Learning rate: 0.0007\n",
            "Learning rate: 0.0008\n",
            "Learning rate: 0.0009\n",
            "Learning rate: 0.001\n",
            "Learning rate: 0.001\n",
            "Learning rate: 0.002\n",
            "Learning rate: 0.003\n",
            "Learning rate: 0.004\n",
            "Learning rate: 0.005\n",
            "Learning rate: 0.006\n",
            "Learning rate: 0.007\n",
            "Learning rate: 0.008\n",
            "Learning rate: 0.009\n",
            "Learning rate: 0.01\n",
            "Best iterations: 10000\n",
            "Best learning rate: 0.0003\n",
            "Minimum cost: 109.78082637594451\n"
          ]
        }
      ]
    },
    {
      "cell_type": "code",
      "source": [
        "a_0 , a_1, cost_graph = gradient_descent_runner(points, intial_a_0, intial_a_1, 0.0003, 10000)\n",
        "\n",
        "\n",
        "print(\"optimized a_0\", a_0)\n",
        "print(\"optimized a_1\", a_1)\n",
        "print(\"minimized cost function\", compute_cost_fun(a_0,a_1,points))"
      ],
      "metadata": {
        "colab": {
          "base_uri": "https://localhost:8080/"
        },
        "id": "oy3_JoqjFplZ",
        "outputId": "b1d2ce76-4683-4af0-a2ef-690ea4b33397"
      },
      "execution_count": null,
      "outputs": [
        {
          "output_type": "stream",
          "name": "stdout",
          "text": [
            "optimized a_0 1.9862926951031172\n",
            "optimized a_1 1.4426929976383642\n",
            "minimized cost function 109.78082637594451\n"
          ]
        }
      ]
    },
    {
      "cell_type": "code",
      "source": [
        "from sklearn.model_selection import train_test_split\n",
        "\n",
        "x = points['study_Hours'].values.reshape(-1, 1)\n",
        "y = points['Test_scores'].values\n",
        "x_train, x_test, y_train, y_test = train_test_split(x, y, test_size=20,\n",
        "                                                    random_state=0)"
      ],
      "metadata": {
        "id": "n9QFRtOdHa47"
      },
      "execution_count": null,
      "outputs": []
    },
    {
      "cell_type": "code",
      "source": [
        "from sklearn.linear_model import LinearRegression\n",
        "\n",
        "lr = LinearRegression()\n",
        "lr.fit(x_train, y_train)"
      ],
      "metadata": {
        "colab": {
          "base_uri": "https://localhost:8080/"
        },
        "id": "WY87MBW3IGIV",
        "outputId": "5115c0ed-1063-41c4-be04-9404650af49b"
      },
      "execution_count": null,
      "outputs": [
        {
          "output_type": "execute_result",
          "data": {
            "text/plain": [
              "LinearRegression()"
            ]
          },
          "metadata": {},
          "execution_count": 25
        }
      ]
    },
    {
      "cell_type": "code",
      "source": [
        "lr.coef_"
      ],
      "metadata": {
        "id": "mr0bql4tIW-x",
        "outputId": "a06befc1-01df-49ca-9564-8096b02fa298",
        "colab": {
          "base_uri": "https://localhost:8080/"
        }
      },
      "execution_count": null,
      "outputs": [
        {
          "output_type": "execute_result",
          "data": {
            "text/plain": [
              "array([1.2055478])"
            ]
          },
          "metadata": {},
          "execution_count": 26
        }
      ]
    },
    {
      "cell_type": "code",
      "source": [
        "lr.intercept_"
      ],
      "metadata": {
        "id": "vjbh9zrbIaTi",
        "outputId": "15c91fd0-baba-4245-e6c3-194b1d5462f5",
        "colab": {
          "base_uri": "https://localhost:8080/"
        }
      },
      "execution_count": null,
      "outputs": [
        {
          "output_type": "execute_result",
          "data": {
            "text/plain": [
              "13.840824136762222"
            ]
          },
          "metadata": {},
          "execution_count": 27
        }
      ]
    }
  ]
}